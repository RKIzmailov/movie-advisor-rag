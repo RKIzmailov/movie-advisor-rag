{
 "cells": [
  {
   "cell_type": "markdown",
   "metadata": {},
   "source": [
    "# Evaluating data generation"
   ]
  },
  {
   "cell_type": "code",
   "execution_count": 3,
   "metadata": {},
   "outputs": [],
   "source": [
    "import pandas as pd\n",
    "import minsearch\n",
    "import hashlib\n",
    "import json\n",
    "import os\n",
    "\n",
    "from tqdm.auto import tqdm\n",
    "tqdm.pandas()\n"
   ]
  },
  {
   "cell_type": "code",
   "execution_count": null,
   "metadata": {},
   "outputs": [],
   "source": [
    "from openai import OpenAI\n",
    "client = OpenAI()"
   ]
  },
  {
   "cell_type": "markdown",
   "metadata": {},
   "source": [
    "## Ingestion"
   ]
  },
  {
   "cell_type": "code",
   "execution_count": 4,
   "metadata": {},
   "outputs": [
    {
     "name": "stdout",
     "output_type": "stream",
     "text": [
      "Shape: (122397, 5)\n"
     ]
    },
    {
     "data": {
      "text/html": [
       "<div>\n",
       "<style scoped>\n",
       "    .dataframe tbody tr th:only-of-type {\n",
       "        vertical-align: middle;\n",
       "    }\n",
       "\n",
       "    .dataframe tbody tr th {\n",
       "        vertical-align: top;\n",
       "    }\n",
       "\n",
       "    .dataframe thead th {\n",
       "        text-align: right;\n",
       "    }\n",
       "</style>\n",
       "<table border=\"1\" class=\"dataframe\">\n",
       "  <thead>\n",
       "    <tr style=\"text-align: right;\">\n",
       "      <th></th>\n",
       "      <th>title</th>\n",
       "      <th>year</th>\n",
       "      <th>plot</th>\n",
       "      <th>genres</th>\n",
       "      <th>director</th>\n",
       "    </tr>\n",
       "  </thead>\n",
       "  <tbody>\n",
       "    <tr>\n",
       "      <th>0</th>\n",
       "      <td>Patton Oswalt: Annihilation</td>\n",
       "      <td>2017</td>\n",
       "      <td>Patton Oswald, despite a personal tragedy, pro...</td>\n",
       "      <td>uncategorized</td>\n",
       "      <td>Bobcat Goldthwait</td>\n",
       "    </tr>\n",
       "    <tr>\n",
       "      <th>1</th>\n",
       "      <td>New York Doll</td>\n",
       "      <td>2005</td>\n",
       "      <td>A recovering alcoholic and recently converted ...</td>\n",
       "      <td>documentary, music</td>\n",
       "      <td>Greg Whiteley</td>\n",
       "    </tr>\n",
       "  </tbody>\n",
       "</table>\n",
       "</div>"
      ],
      "text/plain": [
       "                         title  year  \\\n",
       "0  Patton Oswalt: Annihilation  2017   \n",
       "1                New York Doll  2005   \n",
       "\n",
       "                                                plot              genres  \\\n",
       "0  Patton Oswald, despite a personal tragedy, pro...       uncategorized   \n",
       "1  A recovering alcoholic and recently converted ...  documentary, music   \n",
       "\n",
       "            director  \n",
       "0  Bobcat Goldthwait  \n",
       "1      Greg Whiteley  "
      ]
     },
     "execution_count": 4,
     "metadata": {},
     "output_type": "execute_result"
    }
   ],
   "source": [
    "df = pd.read_csv('../data/movie_dataset.csv')\n",
    "print('Shape:', df.shape)\n",
    "df.head(2)"
   ]
  },
  {
   "cell_type": "code",
   "execution_count": 8,
   "metadata": {},
   "outputs": [],
   "source": [
    "# def generate_document_id(doc):\n",
    "#     combined = f\"{doc['title']}-{doc['plot'][:10]}\"\n",
    "#     hash_object = hashlib.md5(combined.encode())\n",
    "#     hash_hex = hash_object.hexdigest()\n",
    "#     document_id = hash_hex[:8]\n",
    "#     return document_id\n",
    "\n",
    "\n",
    "# df = pd.read_csv('../data/movie_dataset.csv')\n",
    "\n",
    "# df['id'] = df.progress_apply(lambda row: generate_document_id(row.to_dict()), axis = 1)\n",
    "# cols = df.columns.tolist() \n",
    "# df = df[[cols[-1]] + cols[:-1]]\n",
    "\n",
    "# df.to_csv('../data/movie_dataset.csv', index=False)"
   ]
  },
  {
   "cell_type": "code",
   "execution_count": 34,
   "metadata": {},
   "outputs": [],
   "source": [
    "documents = df.to_dict(orient='records')"
   ]
  },
  {
   "cell_type": "code",
   "execution_count": 69,
   "metadata": {},
   "outputs": [],
   "source": [
    "prompt_template = \"\"\"\n",
    "You emulate a user of our Movie advisor application. You emulate that you are trying to recall the title of a movie or deciding what to watch based on a specific plot or genre.\n",
    "Formulate 5 simple questions this user might ask based on a provided record. Questions should be specific to the movie plot, but should not contain the exact movie title. Questions should not be too philosophical.\n",
    "The record should contain the answer to the questions, and the questions should be complete and not too short.\n",
    "\n",
    "The record:\n",
    "\n",
    "title : {title}\n",
    "plot : {plot}\n",
    "genres : {genres}\n",
    "director : {director}\n",
    "year : {year}\n",
    "\n",
    "Provide the output in parsable JSON without using code blocks:\n",
    "\n",
    "[\"question1\", \"question2\", ..., \"question5\"]\n",
    "\"\"\".strip()"
   ]
  },
  {
   "cell_type": "code",
   "execution_count": 73,
   "metadata": {},
   "outputs": [
    {
     "name": "stdout",
     "output_type": "stream",
     "text": [
      "You emulate a user of our Movie advisor application. You emulate that you are trying to recall the title of a movie or deciding what to watch based on a specific plot or genre.\n",
      "Formulate 5 simple questions this user might ask based on a provided record. Questions should be specific to the movie plot, but should not contain the exact movie title. Questions should not be too philosophical.\n",
      "The record should contain the answer to the questions, and the questions should be complete and not too short.\n",
      "\n",
      "The record:\n",
      "\n",
      "title : Generation Iron 2\n",
      "plot : From the director of Generation Iron, comes the anticipated sequel that will depict 5 of the top bodybuilding and fitness mega-stars on a quest of achieving the ultimate physique and taking it to the next extreme level. In the world of social media and internet, the rules have changed as to what makes an iconic bodybuilding mass-monster. Starring Kai Greene, Calum Von Moger, Rich Piana, among others, this film will explore an all new generation of bodybuilders and how this new world, and new people, carve their own path to physique perfection.\n",
      "genres : documentary\n",
      "director : Vlad Yudin\n",
      "year : 2017\n",
      "\n",
      "Provide the output in parsable JSON without using code blocks:\n",
      "\n",
      "[\"question1\", \"question2\", ..., \"question5\"]\n"
     ]
    }
   ],
   "source": [
    "prompt = prompt_template.format(**documents[150])\n",
    "print(prompt)"
   ]
  },
  {
   "cell_type": "code",
   "execution_count": 74,
   "metadata": {},
   "outputs": [],
   "source": [
    "def llm(prompt:str):\n",
    "    response = client.chat.completions.create(\n",
    "        model='gpt-4o-mini',\n",
    "        messages=[{\"role\": \"user\", \"content\": prompt}]\n",
    "    )\n",
    "    \n",
    "    return response.choices[0].message.content"
   ]
  },
  {
   "cell_type": "code",
   "execution_count": 75,
   "metadata": {},
   "outputs": [],
   "source": [
    "questions = llm(prompt)"
   ]
  },
  {
   "cell_type": "code",
   "execution_count": 76,
   "metadata": {},
   "outputs": [
    {
     "data": {
      "text/plain": [
       "['What kind of competition do the main figures in this film engage in regarding their physical appearance?',\n",
       " 'How does social media influence the perception of bodybuilders in this movie?',\n",
       " 'Who are some of the featured bodybuilders striving for physique perfection in this documentary?',\n",
       " 'What year was this documentary about bodybuilding released?',\n",
       " 'What is the main goal of the bodybuilders depicted in this film?']"
      ]
     },
     "execution_count": 76,
     "metadata": {},
     "output_type": "execute_result"
    }
   ],
   "source": [
    "json.loads((questions))"
   ]
  },
  {
   "cell_type": "code",
   "execution_count": null,
   "metadata": {},
   "outputs": [],
   "source": []
  },
  {
   "cell_type": "code",
   "execution_count": 98,
   "metadata": {},
   "outputs": [
    {
     "data": {
      "text/plain": [
       "<minsearch.Index at 0x12c8d36aa50>"
      ]
     },
     "execution_count": 98,
     "metadata": {},
     "output_type": "execute_result"
    }
   ],
   "source": [
    "index = minsearch.Index(\n",
    "    text_fields=['title', 'year', 'plot', 'genres', 'director'],\n",
    "    keyword_fields=['director']\n",
    ")\n",
    "\n",
    "index.fit(documents)"
   ]
  },
  {
   "cell_type": "markdown",
   "metadata": {},
   "source": [
    "## RAG flow"
   ]
  },
  {
   "cell_type": "code",
   "execution_count": null,
   "metadata": {},
   "outputs": [],
   "source": [
    "from openai import OpenAI\n",
    "\n",
    "client = OpenAI()"
   ]
  },
  {
   "cell_type": "code",
   "execution_count": 99,
   "metadata": {},
   "outputs": [],
   "source": [
    "def search(query:str) -> list:\n",
    "    boost = {}\n",
    "\n",
    "    results = index.search(\n",
    "        query=query,\n",
    "        filter_dict={},\n",
    "        boost_dict=boost,\n",
    "        num_results=5\n",
    "    )\n",
    "\n",
    "    return results\n",
    "\n",
    "\n",
    "def build_prompt(query:str, search_results:list) -> str:\n",
    "    prompt_template = \"\"\"\n",
    "You are a professional assistant in selecting movies.\n",
    "Your task is to recommend a movie from our movie dataset that best matches the request or description provided by user. \n",
    "Without any preamble, provide information about the movie that best matches the QUESTION based on the provided CONTEXT.\n",
    "\n",
    "QUESTION: {question}\n",
    "\n",
    "CONTEXT:\n",
    "{context}\n",
    "\"\"\".strip()\n",
    "    \n",
    "    entry_template = \"\"\"\n",
    "title : {title}\n",
    "plot : {plot}\n",
    "genres : {genres}\n",
    "director : {director}\n",
    "year : {year}\n",
    "\"\"\".strip()\n",
    "\n",
    "    context = \"\"\n",
    "    \n",
    "    for doc in search_results:\n",
    "        context = context + entry_template.format(**doc) + \"\\n\\n\"\n",
    "    \n",
    "    prompt = prompt_template.format(question=query, context=context).strip()\n",
    "\n",
    "    return prompt\n",
    "\n",
    "def llm(prompt:str):\n",
    "    response = client.chat.completions.create(\n",
    "        model='gpt-4o-mini',\n",
    "        messages=[{\"role\": \"user\", \"content\": prompt}]\n",
    "    )\n",
    "    \n",
    "    return response.choices[0].message.content\n",
    "\n",
    "def rag(query):\n",
    "    search_results = search(query)\n",
    "    prompt = build_prompt(query, search_results)\n",
    "    answer = llm(prompt)\n",
    "\n",
    "    return answer\n"
   ]
  },
  {
   "cell_type": "code",
   "execution_count": 100,
   "metadata": {},
   "outputs": [],
   "source": [
    "query = 'advise me couple of  movies directed by Tim Burton?'"
   ]
  },
  {
   "cell_type": "code",
   "execution_count": 103,
   "metadata": {},
   "outputs": [
    {
     "name": "stdout",
     "output_type": "stream",
     "text": [
      "1. **Planet of the Apes**  \n",
      "   - **Plot**: In 2029, aboard the United States Air Force space station Oberon, Leo Davidson works closely with trained primates. After a storm causes him to crash-land on a planet ruled by humanoid apes, he discovers the humans are treated as slaves. He fights for their freedom while unraveling the history of the apes and how they came to dominate the planet.\n",
      "   - **Genres**: Science Fiction  \n",
      "   - **Director**: Tim Burton  \n",
      "   - **Year**: 2001  \n",
      "\n",
      "2. **Beetlejuice**  \n",
      "   - **Plot**: The spirits of a deceased couple are disturbed by a family that moves into their home, so they hire a mischievous spirit to help drive them out.\n",
      "   - **Genres**: Comedy, Fantasy  \n",
      "   - **Director**: Tim Burton  \n",
      "   - **Year**: 1988  \n",
      "\n",
      "3. **Frankenweenie**  \n",
      "   - **Plot**: After young Victor loses his pet dog Sparky, he brings him back to life using science. However, Sparky's resurrection causes chaos in the neighborhood, and Victor must show everyone that his dog is still the same loyal friend.\n",
      "   - **Genres**: Action, Animation, Comedy, Family, Horror  \n",
      "   - **Director**: Tim Burton  \n",
      "   - **Year**: 2012  \n"
     ]
    }
   ],
   "source": [
    "answer = rag(query)\n",
    "print(answer)"
   ]
  },
  {
   "cell_type": "markdown",
   "metadata": {},
   "source": [
    "# Retrieval evaluation"
   ]
  },
  {
   "cell_type": "code",
   "execution_count": null,
   "metadata": {},
   "outputs": [],
   "source": []
  }
 ],
 "metadata": {
  "kernelspec": {
   "display_name": "base",
   "language": "python",
   "name": "python3"
  },
  "language_info": {
   "codemirror_mode": {
    "name": "ipython",
    "version": 3
   },
   "file_extension": ".py",
   "mimetype": "text/x-python",
   "name": "python",
   "nbconvert_exporter": "python",
   "pygments_lexer": "ipython3",
   "version": "3.12.1"
  }
 },
 "nbformat": 4,
 "nbformat_minor": 2
}
