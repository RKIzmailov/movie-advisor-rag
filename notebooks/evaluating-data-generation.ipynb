{
 "cells": [
  {
   "cell_type": "markdown",
   "metadata": {},
   "source": [
    "# Evaluating data generation"
   ]
  },
  {
   "cell_type": "code",
   "execution_count": 1,
   "metadata": {},
   "outputs": [
    {
     "name": "stderr",
     "output_type": "stream",
     "text": [
      "/home/codespace/.python/current/lib/python3.12/site-packages/tqdm/auto.py:21: TqdmWarning: IProgress not found. Please update jupyter and ipywidgets. See https://ipywidgets.readthedocs.io/en/stable/user_install.html\n",
      "  from .autonotebook import tqdm as notebook_tqdm\n"
     ]
    }
   ],
   "source": [
    "import pandas as pd\n",
    "import minsearch\n",
    "import hashlib\n",
    "import json\n",
    "import os\n",
    "\n",
    "from tqdm.auto import tqdm\n",
    "tqdm.pandas()"
   ]
  },
  {
   "cell_type": "code",
   "execution_count": 3,
   "metadata": {},
   "outputs": [],
   "source": [
    "from openai import OpenAI\n",
    "\n",
    "client = OpenAI()"
   ]
  },
  {
   "cell_type": "markdown",
   "metadata": {},
   "source": [
    "## Ingestion"
   ]
  },
  {
   "cell_type": "code",
   "execution_count": 4,
   "metadata": {},
   "outputs": [
    {
     "name": "stdout",
     "output_type": "stream",
     "text": [
      "Shape: (5000, 7)\n"
     ]
    },
    {
     "data": {
      "text/html": [
       "<div>\n",
       "<style scoped>\n",
       "    .dataframe tbody tr th:only-of-type {\n",
       "        vertical-align: middle;\n",
       "    }\n",
       "\n",
       "    .dataframe tbody tr th {\n",
       "        vertical-align: top;\n",
       "    }\n",
       "\n",
       "    .dataframe thead th {\n",
       "        text-align: right;\n",
       "    }\n",
       "</style>\n",
       "<table border=\"1\" class=\"dataframe\">\n",
       "  <thead>\n",
       "    <tr style=\"text-align: right;\">\n",
       "      <th></th>\n",
       "      <th>id</th>\n",
       "      <th>title</th>\n",
       "      <th>year</th>\n",
       "      <th>plot</th>\n",
       "      <th>genres</th>\n",
       "      <th>director</th>\n",
       "      <th>vector</th>\n",
       "    </tr>\n",
       "  </thead>\n",
       "  <tbody>\n",
       "    <tr>\n",
       "      <th>0</th>\n",
       "      <td>4dac245a</td>\n",
       "      <td>I Love Maria</td>\n",
       "      <td>1988</td>\n",
       "      <td>On one evening, Hong Kong's largest gang, the ...</td>\n",
       "      <td>sci-fi / comedy</td>\n",
       "      <td>David Chung</td>\n",
       "      <td>[-7.36143067e-02  3.23128849e-02  2.23438442e-...</td>\n",
       "    </tr>\n",
       "    <tr>\n",
       "      <th>1</th>\n",
       "      <td>6667e983</td>\n",
       "      <td>Girl in Progress</td>\n",
       "      <td>2012</td>\n",
       "      <td>Grace is a single mom raising her fourteen-yea...</td>\n",
       "      <td>comedy-drama</td>\n",
       "      <td>Patricia Riggen</td>\n",
       "      <td>[ 3.08281817e-02 -6.33204207e-02  2.21934766e-...</td>\n",
       "    </tr>\n",
       "  </tbody>\n",
       "</table>\n",
       "</div>"
      ],
      "text/plain": [
       "         id             title  year  \\\n",
       "0  4dac245a      I Love Maria  1988   \n",
       "1  6667e983  Girl in Progress  2012   \n",
       "\n",
       "                                                plot           genres  \\\n",
       "0  On one evening, Hong Kong's largest gang, the ...  sci-fi / comedy   \n",
       "1  Grace is a single mom raising her fourteen-yea...     comedy-drama   \n",
       "\n",
       "          director                                             vector  \n",
       "0      David Chung  [-7.36143067e-02  3.23128849e-02  2.23438442e-...  \n",
       "1  Patricia Riggen  [ 3.08281817e-02 -6.33204207e-02  2.21934766e-...  "
      ]
     },
     "execution_count": 4,
     "metadata": {},
     "output_type": "execute_result"
    }
   ],
   "source": [
    "df = pd.read_csv('../data/movie_dataset.csv')\n",
    "print('Shape:', df.shape)\n",
    "df.head(2)"
   ]
  },
  {
   "cell_type": "code",
   "execution_count": 5,
   "metadata": {},
   "outputs": [],
   "source": [
    "# def generate_document_id(doc):\n",
    "#     combined = f\"{doc['title']}-{doc['plot'][:10]}\"\n",
    "#     hash_object = hashlib.md5(combined.encode())\n",
    "#     hash_hex = hash_object.hexdigest()\n",
    "#     document_id = hash_hex[:8]\n",
    "#     return document_id\n",
    "\n",
    "\n",
    "# df = pd.read_csv('../data/movie_dataset.csv')\n",
    "\n",
    "# df['id'] = df.progress_apply(lambda row: generate_document_id(row.to_dict()), axis = 1)\n",
    "# cols = df.columns.tolist() \n",
    "# df = df[[cols[-1]] + cols[:-1]]\n",
    "\n",
    "# df.to_csv('../data/movie_dataset.csv', index=False)"
   ]
  },
  {
   "cell_type": "code",
   "execution_count": 6,
   "metadata": {},
   "outputs": [],
   "source": [
    "documents = df.to_dict(orient='records')"
   ]
  },
  {
   "cell_type": "code",
   "execution_count": 7,
   "metadata": {},
   "outputs": [],
   "source": [
    "prompt_template = \"\"\"\n",
    "You emulate a user of our Movie advisor application. You emulate that you are trying to recall the title of a movie or deciding what to watch based on a specific plot or genre.\n",
    "Formulate 5 simple questions this user might ask based on a provided record. Questions should be specific to the movie plot, but should not contain the exact movie title. Questions should not be too philosophical.\n",
    "The record should contain the answer to the questions, and the questions should be complete and not too short.\n",
    "\n",
    "The record:\n",
    "\n",
    "title : {title}\n",
    "plot : {plot}\n",
    "genres : {genres}\n",
    "director : {director}\n",
    "year : {year}\n",
    "\n",
    "Provide the output in parsable JSON without using code blocks:\n",
    "\n",
    "[\"question1\", \"question2\", ..., \"question5\"]\n",
    "\"\"\".strip()"
   ]
  },
  {
   "cell_type": "code",
   "execution_count": 9,
   "metadata": {},
   "outputs": [
    {
     "name": "stdout",
     "output_type": "stream",
     "text": [
      "You emulate a user of our Movie advisor application. You emulate that you are trying to recall the title of a movie or deciding what to watch based on a specific plot or genre.\n",
      "Formulate 5 simple questions this user might ask based on a provided record. Questions should be specific to the movie plot, but should not contain the exact movie title. Questions should not be too philosophical.\n",
      "The record should contain the answer to the questions, and the questions should be complete and not too short.\n",
      "\n",
      "The record:\n",
      "\n",
      "title : Up in the Air\n",
      "plot : Ryan Bingham works for a Human Resources consultancy firm which specializes in termination assistance, and makes his living traveling to workplaces across the United States, conducting company layoffs and firings on behalf of employers. He also gives motivational speeches, using the analogy \"What's in Your Backpack?\" to extol the virtues of a life free of burdensome relationships with people as well as things. A frequent flyer, Ryan has no fixed abode, relishes his travels, and desires to become the seventh and youngest person to earn ten million frequent flyer miles with American Airlines. During his travels, he meets another frequent flyer named Alex, and they begin a casual relationship.\n",
      "Ryan is called back to his company's offices in Omaha, Nebraska. Natalie Keener, a young and ambitious new hire, promotes a program designed to cut costs by conducting layoffs via videoconferencing. Ryan raises concerns that the program could be seen as detached and apathetic, arguing that Natalie knows nothing about the reality of the firing process or how to handle upset people. He then plays the role of a fired employee to demonstrate her inexperience. Ryan's boss assigns him to bring Natalie on his next round of terminations to show her the ropes.\n",
      "As they travel together, Natalie questions Ryan's philosophies on life, particularly on relationships and love, but Ryan is adamant that he is more than happy with his lifestyle. During the trip, Natalie is shattered when her boyfriend unceremoniously dumps her by text message, and Ryan and Alex try to comfort her. Natalie later lectures Ryan about his refusal to consider a commitment to Alex in spite of their obvious compatibility, and becomes infuriated; she apologizes later, but soon afterward they are both ordered back to Omaha to implement Natalie's program. On the test run, the earlier concerns Ryan raised prove valid; one laid-off person breaks down in tears before the camera, and Natalie is unable to comfort him.\n",
      "Instead of returning immediately to Omaha, Ryan convinces Alex to accompany him to his younger sister's wedding. He learns that the reason the couple had him take photos of a cutout picture of them in various places was because they cannot afford a honeymoon. When the groom gets cold feet, Ryan's older sister talks Ryan into using his motivational skills to persuade the groom to go through with the wedding. Although this runs counter to Ryan's personal philosophy, he successfully argues that the important moments in life are rarely unshared. The wedding goes off without any further hitches.\n",
      "Ryan begins having second thoughts about his life and philosophies. As he starts delivering his \"What's in Your Backpack?\" speech at a convention in Las Vegas, he realizes he no longer believes it, and walks off the stage. On an impulse, he flies to Alex's home in Chicago. When she opens the door, Ryan is stunned to discover she is married and has children, and leaves before her husband can suspect anything. She later tells him over the phone that her family is her real life and he is an escape.\n",
      "On Ryan's flight home, the crew announces that he has just crossed the ten million mile mark, and a small celebration is thrown. The airline's chief pilot comes out of the cockpit to meet Ryan. He notes that Ryan is the youngest person to reach the milestone. When asked where he is from, a disheartened Ryan can only respond, \"here.\"\n",
      "Ryan calls the airline to transfer five hundred thousand miles each to his sister and brother-in-law, enough for them to fly around the world for their honeymoon. His boss tells Ryan that a woman he and Natalie fired during their travels has killed herself, and that an upset Natalie has quit via text message. The company also puts the remote-layoff program on hold.\n",
      "Natalie applies for a job in San Francisco, where she was offered a job before following her now ex-boyfriend to Omaha. The interviewer is impressed by her qualifications and a glowing recommendation from Ryan, and hires her. The film concludes with Ryan standing in front of a vast destination board, looking up, and letting go of his luggage.\n",
      "genres : comedy-drama\n",
      "director : Jason Reitman\n",
      "year : 2009\n",
      "\n",
      "Provide the output in parsable JSON without using code blocks:\n",
      "\n",
      "[\"question1\", \"question2\", ..., \"question5\"]\n"
     ]
    }
   ],
   "source": [
    "n=150\n",
    "prompt = prompt_template.format(**documents[n])\n",
    "print(prompt)"
   ]
  },
  {
   "cell_type": "code",
   "execution_count": 10,
   "metadata": {},
   "outputs": [],
   "source": [
    "def llm(prompt:str):\n",
    "    response = client.chat.completions.create(\n",
    "        model='gpt-4o-mini',\n",
    "        messages=[{\"role\": \"user\", \"content\": prompt}]\n",
    "    )\n",
    "    \n",
    "    return response.choices[0].message.content"
   ]
  },
  {
   "cell_type": "code",
   "execution_count": 11,
   "metadata": {},
   "outputs": [],
   "source": [
    "questions = llm(prompt)"
   ]
  },
  {
   "cell_type": "code",
   "execution_count": 12,
   "metadata": {},
   "outputs": [
    {
     "data": {
      "text/plain": [
       "['What does Ryan Bingham do for a living, and how does it relate to his frequent travels?',\n",
       " \"How does Ryan's perspective on relationships change throughout the movie?\",\n",
       " 'What challenges does Natalie face regarding her new layoffs program, and how does Ryan respond to it?',\n",
       " \"What significant events occur during Ryan's sister's wedding that impact his character development?\",\n",
       " 'What realization does Ryan come to about his life and personal philosophies towards the end of the film?']"
      ]
     },
     "execution_count": 12,
     "metadata": {},
     "output_type": "execute_result"
    }
   ],
   "source": [
    "json.loads((questions))"
   ]
  },
  {
   "cell_type": "code",
   "execution_count": null,
   "metadata": {},
   "outputs": [],
   "source": []
  }
 ],
 "metadata": {
  "kernelspec": {
   "display_name": "base",
   "language": "python",
   "name": "python3"
  },
  "language_info": {
   "codemirror_mode": {
    "name": "ipython",
    "version": 3
   },
   "file_extension": ".py",
   "mimetype": "text/x-python",
   "name": "python",
   "nbconvert_exporter": "python",
   "pygments_lexer": "ipython3",
   "version": "3.12.1"
  }
 },
 "nbformat": 4,
 "nbformat_minor": 2
}
