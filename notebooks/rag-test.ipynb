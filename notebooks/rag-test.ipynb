{
 "cells": [
  {
   "cell_type": "code",
   "execution_count": 1,
   "metadata": {},
   "outputs": [
    {
     "name": "stderr",
     "output_type": "stream",
     "text": [
      "/home/codespace/.python/current/lib/python3.12/site-packages/tqdm/auto.py:21: TqdmWarning: IProgress not found. Please update jupyter and ipywidgets. See https://ipywidgets.readthedocs.io/en/stable/user_install.html\n",
      "  from .autonotebook import tqdm as notebook_tqdm\n"
     ]
    }
   ],
   "source": [
    "import pandas as pd\n",
    "import numpy as np\n",
    "\n",
    "import os\n",
    "from dotenv import load_dotenv\n",
    "import re\n",
    "\n",
    "from tqdm.auto import tqdm\n",
    "tqdm.pandas()"
   ]
  },
  {
   "cell_type": "code",
   "execution_count": 4,
   "metadata": {},
   "outputs": [],
   "source": [
    "from openai import OpenAI\n",
    "\n",
    "load_dotenv()\n",
    "openai_api_key = os.getenv('OPENAI_API_KEY')\n",
    "\n",
    "client = OpenAI()"
   ]
  },
  {
   "cell_type": "markdown",
   "metadata": {},
   "source": [
    "# 1. RAG-flow"
   ]
  },
  {
   "cell_type": "markdown",
   "metadata": {},
   "source": [
    "The RAG-flow will include:\n",
    "1) Retrieval :: 3 differen approaches:\n",
    "    - minisearch\n",
    "    - elastic-search\n",
    "    - elastic-search vector\n",
    "2) LLM :: \"gpt-4o-mini\""
   ]
  },
  {
   "cell_type": "code",
   "execution_count": 5,
   "metadata": {},
   "outputs": [],
   "source": [
    "def build_prompt(query:str, search_results:list) -> str:\n",
    "    prompt_template = \"\"\"\n",
    "You are a professional assistant in selecting movies.\n",
    "Your task is to recommend a movie from our movie dataset that best matches the request or description provided by user. \n",
    "Without any preamble, provide information about the movie that best matches the QUESTION based on the provided CONTEXT.\n",
    "\n",
    "QUESTION: {question}\n",
    "\n",
    "CONTEXT:\n",
    "{context}\n",
    "\"\"\".strip()\n",
    "    \n",
    "    entry_template = \"\"\"\n",
    "title : {title}\n",
    "plot : {plot}\n",
    "genres : {genres}\n",
    "director : {director}\n",
    "year : {year}\n",
    "\"\"\".strip()\n",
    "\n",
    "    context = \"\"\n",
    "    \n",
    "    for doc in search_results:\n",
    "        context = context + entry_template.format(**doc) + \"\\n\\n\"\n",
    "    \n",
    "    prompt = prompt_template.format(question=query, context=context).strip()\n",
    "\n",
    "    return prompt\n",
    "\n",
    "def llm(prompt:str):\n",
    "    response = client.chat.completions.create(\n",
    "        model='gpt-4o-mini',\n",
    "        messages=[{\"role\": \"user\", \"content\": prompt}]\n",
    "    )\n",
    "    \n",
    "    return response.choices[0].message.content"
   ]
  },
  {
   "cell_type": "markdown",
   "metadata": {},
   "source": [
    "## Minisearch-Text_search"
   ]
  },
  {
   "cell_type": "code",
   "execution_count": 6,
   "metadata": {},
   "outputs": [
    {
     "name": "stdout",
     "output_type": "stream",
     "text": [
      "Shape: (5000, 7)\n"
     ]
    },
    {
     "data": {
      "text/html": [
       "<div>\n",
       "<style scoped>\n",
       "    .dataframe tbody tr th:only-of-type {\n",
       "        vertical-align: middle;\n",
       "    }\n",
       "\n",
       "    .dataframe tbody tr th {\n",
       "        vertical-align: top;\n",
       "    }\n",
       "\n",
       "    .dataframe thead th {\n",
       "        text-align: right;\n",
       "    }\n",
       "</style>\n",
       "<table border=\"1\" class=\"dataframe\">\n",
       "  <thead>\n",
       "    <tr style=\"text-align: right;\">\n",
       "      <th></th>\n",
       "      <th>id</th>\n",
       "      <th>title</th>\n",
       "      <th>year</th>\n",
       "      <th>plot</th>\n",
       "      <th>genres</th>\n",
       "      <th>director</th>\n",
       "      <th>vector</th>\n",
       "    </tr>\n",
       "  </thead>\n",
       "  <tbody>\n",
       "    <tr>\n",
       "      <th>0</th>\n",
       "      <td>4dac245a</td>\n",
       "      <td>I Love Maria</td>\n",
       "      <td>1988</td>\n",
       "      <td>On one evening, Hong Kong's largest gang, the ...</td>\n",
       "      <td>sci-fi / comedy</td>\n",
       "      <td>David Chung</td>\n",
       "      <td>[-7.36143067e-02  3.23128849e-02  2.23438442e-...</td>\n",
       "    </tr>\n",
       "    <tr>\n",
       "      <th>1</th>\n",
       "      <td>6667e983</td>\n",
       "      <td>Girl in Progress</td>\n",
       "      <td>2012</td>\n",
       "      <td>Grace is a single mom raising her fourteen-yea...</td>\n",
       "      <td>comedy-drama</td>\n",
       "      <td>Patricia Riggen</td>\n",
       "      <td>[ 3.08281817e-02 -6.33204207e-02  2.21934766e-...</td>\n",
       "    </tr>\n",
       "  </tbody>\n",
       "</table>\n",
       "</div>"
      ],
      "text/plain": [
       "         id             title  year  \\\n",
       "0  4dac245a      I Love Maria  1988   \n",
       "1  6667e983  Girl in Progress  2012   \n",
       "\n",
       "                                                plot           genres  \\\n",
       "0  On one evening, Hong Kong's largest gang, the ...  sci-fi / comedy   \n",
       "1  Grace is a single mom raising her fourteen-yea...     comedy-drama   \n",
       "\n",
       "          director                                             vector  \n",
       "0      David Chung  [-7.36143067e-02  3.23128849e-02  2.23438442e-...  \n",
       "1  Patricia Riggen  [ 3.08281817e-02 -6.33204207e-02  2.21934766e-...  "
      ]
     },
     "execution_count": 6,
     "metadata": {},
     "output_type": "execute_result"
    }
   ],
   "source": [
    "df = pd.read_csv('../data/movie_dataset.csv')\n",
    "print('Shape:', df.shape)\n",
    "df.head(2)"
   ]
  },
  {
   "cell_type": "code",
   "execution_count": 7,
   "metadata": {},
   "outputs": [
    {
     "name": "stdout",
     "output_type": "stream",
     "text": [
      "<class 'pandas.core.frame.DataFrame'>\n",
      "RangeIndex: 5000 entries, 0 to 4999\n",
      "Data columns (total 7 columns):\n",
      " #   Column    Non-Null Count  Dtype \n",
      "---  ------    --------------  ----- \n",
      " 0   id        5000 non-null   object\n",
      " 1   title     5000 non-null   object\n",
      " 2   year      5000 non-null   int64 \n",
      " 3   plot      5000 non-null   object\n",
      " 4   genres    5000 non-null   object\n",
      " 5   director  5000 non-null   object\n",
      " 6   vector    5000 non-null   object\n",
      "dtypes: int64(1), object(6)\n",
      "memory usage: 273.6+ KB\n"
     ]
    }
   ],
   "source": [
    "df.info()"
   ]
  },
  {
   "cell_type": "code",
   "execution_count": 8,
   "metadata": {},
   "outputs": [],
   "source": [
    "df = df[['id', 'title', 'year', 'plot', 'genres', 'director']]\n",
    "df['year'] = df['year'].apply(lambda i: str(i))\n",
    "\n",
    "documents = df.to_dict(orient='records')"
   ]
  },
  {
   "cell_type": "code",
   "execution_count": 10,
   "metadata": {},
   "outputs": [],
   "source": [
    "## Run to download the Minsearch\n",
    "\n",
    "# import requests\n",
    "\n",
    "# url = \"https://raw.githubusercontent.com/alexeygrigorev/minsearch/main/minsearch.py\"\n",
    "# response = requests.get(url)\n",
    "\n",
    "# # Сохранение файла\n",
    "# with open(\"minsearch.py\", \"wb\") as f:\n",
    "#     f.write(response.content)"
   ]
  },
  {
   "cell_type": "code",
   "execution_count": 9,
   "metadata": {},
   "outputs": [
    {
     "data": {
      "text/plain": [
       "<minsearch.Index at 0x715523962a20>"
      ]
     },
     "execution_count": 9,
     "metadata": {},
     "output_type": "execute_result"
    }
   ],
   "source": [
    "import minsearch\n",
    "\n",
    "index = minsearch.Index(\n",
    "    text_fields=['title', 'year', 'plot', 'genres', 'director'],\n",
    "    keyword_fields=[]\n",
    ")\n",
    "\n",
    "index.fit(documents)"
   ]
  },
  {
   "cell_type": "code",
   "execution_count": 10,
   "metadata": {},
   "outputs": [],
   "source": [
    "def minisearch(query:str) -> list:\n",
    "    boost = {}\n",
    "\n",
    "    results = index.search(\n",
    "        query=query,\n",
    "        filter_dict={},\n",
    "        boost_dict=boost,\n",
    "        num_results=5\n",
    "    )\n",
    "\n",
    "    return results"
   ]
  },
  {
   "cell_type": "code",
   "execution_count": 11,
   "metadata": {},
   "outputs": [
    {
     "name": "stdout",
     "output_type": "stream",
     "text": [
      "Movie title: Up in the Air \n",
      "\n",
      "1: What does Ryan Bingham do for a living, and how does it relate to his frequent travels?\n",
      "--Big Top Scooby-Doo!\t--It's Kind of a Funny Story\t--Turn Left, Turn Right\t-- Abby Singer\t--The Mad Monk\t\n",
      "************\n",
      "2: How does Ryan's perspective on relationships change throughout the movie?\n",
      "--Bachelor Party\t--Saving Private Ryan\t--The Change-Up\t--Jigsaw\t-- Abby Singer\t\n",
      "************\n",
      "3: What challenges does Natalie face regarding her new layoffs program, and how does Ryan respond to it?\n",
      "--Big Top Scooby-Doo!\t--It's Kind of a Funny Story\t--Turn Left, Turn Right\t-- Abby Singer\t--The Mad Monk\t\n",
      "************\n",
      "4: What significant events occur during Ryan's sister's wedding that impact his character development?\n",
      "-- Abby Singer\t--Gutterballs\t--Lost River\t--Abominable\t--It's Kind of a Funny Story\t\n",
      "************\n",
      "5: What realization does Ryan come to about his life and personal philosophies towards the end of the film?\n",
      "--Jigsaw\t--Grave Encounters\t--Barney's Version\t--Up in the Air\t--Window Horses\t\n",
      "************\n"
     ]
    }
   ],
   "source": [
    "queries = ['What does Ryan Bingham do for a living, and how does it relate to his frequent travels?',\n",
    " \"How does Ryan's perspective on relationships change throughout the movie?\",\n",
    " 'What challenges does Natalie face regarding her new layoffs program, and how does Ryan respond to it?',\n",
    " \"What significant events occur during Ryan's sister's wedding that impact his character development?\",\n",
    " 'What realization does Ryan come to about his life and personal philosophies towards the end of the film?']\n",
    "\n",
    "\n",
    "print('Movie title:', documents[150]['title'], '\\n')\n",
    "i = 1\n",
    "for query in queries:\n",
    "    print(f'{i}: {query}')\n",
    "    for doc in minisearch(query):\n",
    "        print(f\"--{doc['title']}\", end = '\\t')\n",
    "    i+=1\n",
    "    print('\\n************')"
   ]
  },
  {
   "cell_type": "code",
   "execution_count": 12,
   "metadata": {},
   "outputs": [
    {
     "name": "stdout",
     "output_type": "stream",
     "text": [
      "In \"Up in the Air,\" Ryan Bingham, played by George Clooney, is a corporate downsizer who travels extensively for work. His job involves flying across the country to terminate employees on behalf of various companies, which leads to his frequent travels as he seeks to maintain a life disconnected from personal relationships. Bingham embraces this lifestyle, finding solace in his nomadic existence and the comfort of airport lounges, but he ultimately faces the emotional repercussions of his detached way of living. The film explores themes of isolation, commitment, and the impact of modern corporate culture on personal life.\n"
     ]
    }
   ],
   "source": [
    "def rag(query):\n",
    "    search_results = minisearch(query)\n",
    "    prompt = build_prompt(query, search_results)\n",
    "    answer = llm(prompt)\n",
    "\n",
    "    return answer\n",
    "\n",
    "query = 'What does Ryan Bingham do for a living, and how does it relate to his frequent travels?'\n",
    "\n",
    "answer = rag(query)\n",
    "print(answer)"
   ]
  },
  {
   "cell_type": "markdown",
   "metadata": {},
   "source": [
    "## Elasticsearch-Text_search"
   ]
  },
  {
   "cell_type": "code",
   "execution_count": 16,
   "metadata": {},
   "outputs": [],
   "source": [
    "# %pip -q install elasticsearch"
   ]
  },
  {
   "cell_type": "markdown",
   "metadata": {},
   "source": [
    "Running Elasticsearch:\n",
    "\n",
    "```\n",
    "docker run -it \\\n",
    "    --rm \\\n",
    "    --name elasticsearch \\\n",
    "    -m 4GB \\\n",
    "    -p 9200:9200 \\\n",
    "    -p 9300:9300 \\\n",
    "    -e \"discovery.type=single-node\" \\\n",
    "    -e \"xpack.security.enabled=false\" \\\n",
    "    docker.elastic.co/elasticsearch/elasticsearch:8.4.3\n",
    "```"
   ]
  },
  {
   "cell_type": "code",
   "execution_count": 13,
   "metadata": {},
   "outputs": [],
   "source": [
    "from elasticsearch import Elasticsearch\n",
    "\n",
    "es_client = Elasticsearch('http://localhost:9200') "
   ]
  },
  {
   "cell_type": "code",
   "execution_count": 16,
   "metadata": {
    "scrolled": true
   },
   "outputs": [
    {
     "data": {
      "text/plain": [
       "ObjectApiResponse({'acknowledged': True, 'shards_acknowledged': True, 'index': 'movie-questions'})"
      ]
     },
     "execution_count": 16,
     "metadata": {},
     "output_type": "execute_result"
    }
   ],
   "source": [
    "index_settings = {\n",
    "    \"settings\": {\n",
    "        \"number_of_shards\": 1,\n",
    "        \"number_of_replicas\": 0\n",
    "    },\n",
    "    \"mappings\": {\n",
    "        \"properties\": {\n",
    "            \"title\" : {\"type\": \"text\"},\n",
    "            \"plot\" : {\"type\": \"text\"},\n",
    "            \"genres\" : {\"type\": \"text\"},\n",
    "            \"director\" : {\"type\": \"text\"},\n",
    "            \"year\" : {\"type\": \"text\"},\n",
    "        }\n",
    "    }\n",
    "}\n",
    "\n",
    "index_name = \"movie-questions\"\n",
    "\n",
    "es_client.indices.delete(index=index_name, ignore_unavailable=True)\n",
    "es_client.indices.create(index=index_name, body=index_settings)"
   ]
  },
  {
   "cell_type": "code",
   "execution_count": 17,
   "metadata": {},
   "outputs": [
    {
     "name": "stderr",
     "output_type": "stream",
     "text": [
      "100%|██████████| 5000/5000 [01:35<00:00, 52.11it/s]\n"
     ]
    }
   ],
   "source": [
    "df = pd.read_csv('../data/movie_dataset.csv')\n",
    "df = df[['title', 'year', 'plot', 'genres', 'director']]\n",
    "df['year'] = df['year'].apply(lambda i: str(i))\n",
    "\n",
    "documents = df.to_dict(orient='records')\n",
    "\n",
    "for doc in tqdm(documents):\n",
    "    es_client.index(index=index_name, document=doc)"
   ]
  },
  {
   "cell_type": "code",
   "execution_count": 23,
   "metadata": {},
   "outputs": [],
   "source": [
    "def elastic_search(query):\n",
    "    search_query = {\n",
    "        \"size\": 5,\n",
    "        \"query\": {\n",
    "            \"bool\": {\n",
    "                \"must\": {\n",
    "                    \"multi_match\": {\n",
    "                        \"query\": query,\n",
    "                        \"fields\": [\"title\", \"plot\", \"genres\", \"director\"],\n",
    "                        \"type\": \"best_fields\"\n",
    "                    }\n",
    "                },\n",
    "            }\n",
    "        }\n",
    "    }\n",
    "\n",
    "    response = es_client.search(index=index_name, body=search_query)\n",
    "    \n",
    "    result_docs = []\n",
    "    \n",
    "    for hit in response['hits']['hits']:\n",
    "        hit_dict = hit['_source']\n",
    "        hit_dict['_score'] = hit['_score']\n",
    "        result_docs.append(hit_dict)\n",
    "\n",
    "    return result_docs"
   ]
  },
  {
   "cell_type": "code",
   "execution_count": 19,
   "metadata": {},
   "outputs": [
    {
     "name": "stdout",
     "output_type": "stream",
     "text": [
      "Movie title: Up in the Air \n",
      "\n",
      "1: What does Ryan Bingham do for a living, and how does it relate to his frequent travels?\n",
      "--Up in the Air\t--Forger, TheThe Forger\t--State of Play\t--God's Not Dead 2\t--Judaai\t\n",
      "************\n",
      "2: How does Ryan's perspective on relationships change throughout the movie?\n",
      "--Up in the Air\t--Anbulla Rajinikanth\t--Carnal Knowledge\t--Donald in Mathmagic Land\t--Kala Bazar\t\n",
      "************\n",
      "3: What challenges does Natalie face regarding her new layoffs program, and how does Ryan respond to it?\n",
      "--Up in the Air\t--Billy's Hollywood Screen Kiss\t--What We Do Is Secret\t--Love Actually\t--Drumline\t\n",
      "************\n",
      "4: What significant events occur during Ryan's sister's wedding that impact his character development?\n",
      "--Up in the Air\t--Bad Sleep Well !The Bad Sleep Well\t--The Ugly American\t--Lone Survivor\t--Kanchivaram\t\n",
      "************\n",
      "5: What realization does Ryan come to about his life and personal philosophies towards the end of the film?\n",
      "--Up in the Air\t--Why Has Bodhi-Dharma Left for the East?\t--Point Break\t--High School Musical 3: Senior Year\t--Bonifacio: Ang Unang Pangulo\t\n",
      "************\n"
     ]
    }
   ],
   "source": [
    "queries = ['What does Ryan Bingham do for a living, and how does it relate to his frequent travels?',\n",
    "           \"How does Ryan's perspective on relationships change throughout the movie?\",\n",
    "           'What challenges does Natalie face regarding her new layoffs program, and how does Ryan respond to it?',\n",
    "           \"What significant events occur during Ryan's sister's wedding that impact his character development?\",\n",
    "           'What realization does Ryan come to about his life and personal philosophies towards the end of the film?']\n",
    "\n",
    "\n",
    "print('Movie title:', documents[150]['title'], '\\n')\n",
    "i = 1\n",
    "for query in queries:\n",
    "    print(f'{i}: {query}')\n",
    "    for doc in elastic_search(query):\n",
    "        print(f\"--{doc['title']}\", end = '\\t')\n",
    "    i+=1\n",
    "    print('\\n************')"
   ]
  },
  {
   "cell_type": "code",
   "execution_count": 24,
   "metadata": {},
   "outputs": [
    {
     "name": "stdout",
     "output_type": "stream",
     "text": [
      "{'title': 'Up in the Air', 'year': '2009', 'plot': 'Ryan Bingham works for a Human Resources consultancy firm which specializes in termination assistance, and makes his living traveling to workplaces across the United States, conducting company layoffs and firings on behalf of employers. He also gives motivational speeches, using the analogy \"What\\'s in Your Backpack?\" to extol the virtues of a life free of burdensome relationships with people as well as things. A frequent flyer, Ryan has no fixed abode, relishes his travels, and desires to become the seventh and youngest person to earn ten million frequent flyer miles with American Airlines. During his travels, he meets another frequent flyer named Alex, and they begin a casual relationship.\\nRyan is called back to his company\\'s offices in Omaha, Nebraska. Natalie Keener, a young and ambitious new hire, promotes a program designed to cut costs by conducting layoffs via videoconferencing. Ryan raises concerns that the program could be seen as detached and apathetic, arguing that Natalie knows nothing about the reality of the firing process or how to handle upset people. He then plays the role of a fired employee to demonstrate her inexperience. Ryan\\'s boss assigns him to bring Natalie on his next round of terminations to show her the ropes.\\nAs they travel together, Natalie questions Ryan\\'s philosophies on life, particularly on relationships and love, but Ryan is adamant that he is more than happy with his lifestyle. During the trip, Natalie is shattered when her boyfriend unceremoniously dumps her by text message, and Ryan and Alex try to comfort her. Natalie later lectures Ryan about his refusal to consider a commitment to Alex in spite of their obvious compatibility, and becomes infuriated; she apologizes later, but soon afterward they are both ordered back to Omaha to implement Natalie\\'s program. On the test run, the earlier concerns Ryan raised prove valid; one laid-off person breaks down in tears before the camera, and Natalie is unable to comfort him.\\nInstead of returning immediately to Omaha, Ryan convinces Alex to accompany him to his younger sister\\'s wedding. He learns that the reason the couple had him take photos of a cutout picture of them in various places was because they cannot afford a honeymoon. When the groom gets cold feet, Ryan\\'s older sister talks Ryan into using his motivational skills to persuade the groom to go through with the wedding. Although this runs counter to Ryan\\'s personal philosophy, he successfully argues that the important moments in life are rarely unshared. The wedding goes off without any further hitches.\\nRyan begins having second thoughts about his life and philosophies. As he starts delivering his \"What\\'s in Your Backpack?\" speech at a convention in Las Vegas, he realizes he no longer believes it, and walks off the stage. On an impulse, he flies to Alex\\'s home in Chicago. When she opens the door, Ryan is stunned to discover she is married and has children, and leaves before her husband can suspect anything. She later tells him over the phone that her family is her real life and he is an escape.\\nOn Ryan\\'s flight home, the crew announces that he has just crossed the ten million mile mark, and a small celebration is thrown. The airline\\'s chief pilot comes out of the cockpit to meet Ryan. He notes that Ryan is the youngest person to reach the milestone. When asked where he is from, a disheartened Ryan can only respond, \"here.\"\\nRyan calls the airline to transfer five hundred thousand miles each to his sister and brother-in-law, enough for them to fly around the world for their honeymoon. His boss tells Ryan that a woman he and Natalie fired during their travels has killed herself, and that an upset Natalie has quit via text message. The company also puts the remote-layoff program on hold.\\nNatalie applies for a job in San Francisco, where she was offered a job before following her now ex-boyfriend to Omaha. The interviewer is impressed by her qualifications and a glowing recommendation from Ryan, and hires her. The film concludes with Ryan standing in front of a vast destination board, looking up, and letting go of his luggage.', 'genres': 'comedy-drama', 'director': 'Jason Reitman', '_score': 30.787212}\n",
      "{'title': 'Forger, TheThe Forger', 'year': '2012', 'plot': 'Joshua Mason (Josh Hutcherson) is a troubled 15-year-old who is abandoned by his mother at a motel in Carmel-by-the-Sea. The story begins with Joshua finishing a painting at an old mission and selling it for $50, only to be caught by the artist who had left the painting on an easel. He returns to the motel room to sleep. When the motel manager comes to collect payment, Joshua grabs his belongings and runs out the back door. A social worker, Vanessa Reese, visits the manager and he explains that he hasn\\'t seen the boy\\'s mother for some time. He shows Vanessa the room and that the boy has painted some amazing art on the walls, mirror and ceiling. Joshua, meanwhile, wanders around the town and chats to a girl, Amber, through a school yard fence. One of the school\\'s faculty reprimands Amber for not returning to school and grabs her by the arm to take her to the principal\\'s office. Joshua becomes upset with how aggressive the teacher is, pulling at her arm, and shouts at him to give her a break and pick on someone his own size. Joshua climbs the fence and pulls Amber from the teacher\\'s grip only to be confronted by two boys - one of them her brother Ryan, who thinks she\\'s being harassed. Joshua punches Ryan, who then punches back. Joshua runs off, climbs the fence and shouts back he\\'s sorry to the girl. When it starts to rain, he hides in a culvert but gets caught in the flowing water. His hand is cut as he falls out of the culvert into the sea/coast below.\\nJoshua walks along the rocky coastline and happens upon a large sea-side mansion and finding a side door that\\'s been left open, \\'breaks\\' in. He showers, cleans up his cut and now starving, makes himself a large sandwich. While exploring the mansion, he finds an art studio with a painting that is half complete (being copied from a photo) and finishes it before falling asleep. When he awakens he\\'s confronted by the police and taken to child services. He tells the social worker that he doesn\\'t know where his mother is.\\nBack at the mansion, the owner, Everly (Alfred Molina), finds the now-finished painting and believes the boy has real talent since he had been unable to find anyone to complete the portrait, let alone do it with such complete accuracy. Everly decides to take in the boy thinking that he might be able to exploit his art talent. While eating breakfast one morning, Everly gives Joshua an expensive fountain pen as a gift and the two talk about art. Joshua, knowing little on the history of art, jokingly tells Everly that his favorite artist is Hank Ketcham, the creator of Dennis the Menace.\\nDuring a charity art benefit, Joshua meets a kind old woman named Anne-Marie Cole (Lauren Bacall). He also meets Ryan, Amber\\'s brother, and the two apologize to each other about what had gone down at the school yard the other day. Ryan says Amber told him the full story of what happened and thanks Joshua for looking out for his sister. The two talk about Anne-Marie and how she\\'s indeed cool but also loaded.\\nThat night, Joshua breaks into Anne-Marie\\'s home but is unsure of why he does. He begins to go through some of her things and finds a leather-thong necklace with a small vial (filled with something that he later finds out to be cyanide) which he pilfers, as well as a picture of an unknown man. Anne-Marie discovers Joshua in the room and asks him what he is doing. He asks who the man is in the photograph. She tells him it is an artist named George and nothing more. She then calls Everly to come and collect him.\\nThe next day Joshua and Amber talk on the beach. When Amber asks what she could do to repay him, he states that she could give him a kiss. She laughs it off and races him down the beach but drops her keys in an effort to win. She beats him and while trying to get her keys back from him, he kisses her without warning. She pushes him off, demands for him to give her the keys before leaving him on the beach. There he finds a large black dog and learns that it is Anne-Marie\\'s dog Matilda. He takes Matilda home to Anne-Marie and the two of them talk over a bowl of soup.\\nMeanwhile, Vanessa continues her search to find Joshua\\'s mother and learns that she may be living with her boyfriend. Joshua goes to Amber\\'s and gives her a portrait of her that he had drawn. She smiles and comments that it looks good and invites him to sit with her. Joshua apologizes for what he did at the beach and that he was foolish for kissing her like that. She tells him that it was the worst kiss she had ever experienced and teaches him how to \"properly\" kiss a girl.\\nMeanwhile, Everly has sold the painting that Joshua had completed earlier but needs to complete a Winslow Homer in just a couple of weeks or lose his art galleries along with everything he owns. He decides to take a risk and use the boy seeing as he is the only one who could complete the portrait accurately and on time. Joshua attends a party that Amber is throwing and sees her in the arms of another guy, who happens to be her cousin. He grows jealous and follows them in the house and is about to confront him but he is held back by Ryan. Joshua and Ryan fight, resulting in Joshua hitting Ryan with a pool ball.\\nJoshua goes to Anne-Marie\\'s where she tends to his wounds. She tells him that just seeing something won\\'t give you the truth, that you sometimes have to look at something in a different light. She then asks if he would like to live with her. He tells her that he would have to think about it.\\nBack at Everly\\'s, Joshua confronts Everly about his forgery scheme and how for $500 he will keep his mouth shut. Everly gives him a different proposition: If he does one more painting he will get half the money made from it - a possibility of millions. Joshua, amazed, says yes. For a week he learns what forgers have to do so their paintings pass as authentic. When the painting is finished, Joshua and Everly have an unpleasant conversation. Joshua, having second thoughts, then takes the painting from the house and hides it.\\nMeanwhile, Vanessa finds Joshua\\'s mother living with her boyfriend and a child. Vanessa then calls child protective services to rescue the child. She goes back to her office and takes a closer look at Joshua\\'s file and learns that he has been abused by his mother. She discovers that Anne-Marie wants to become Joshua\\'s permanent guardian. She learns how Anne-Marie had been questioned by the police and fell under suspicion of forgery. Vanessa also learns that Anne-Marie lost her family in a house fire and was unable to save her only surviving daughter.\\nJoshua goes to Anne-Marie\\'s after hearing a rumor from Everly that she was once a forger. He goes through her stuff and finds a forger\\'s hammer and a newspaper clipping about how she was suspected of art forgeries. He then runs away feeling that he cannot trust anyone.\\nVanessa then meets with Joshua and tells him she could not find his mother. Joshua then breaks down in tears feeling that he is unwanted.\\nRyan talks to Joshua and tells him he needs to apologize to Amber, which he does. Joshua then goes ahead and steals the painting. Anne-Marie goes to Everly\\'s to talk to Joshua and finds the door unlocked. She goes in and wanders into the art studio where she learns that Joshua has stolen the painting. Joshua then goes to the art exhibit and returns the painting but before he leaves, Anne-Marie in front of everybody, slices the portrait and tells everyone that it was a forgery and that she at one time painted one of Everly\\'s forgeries and has regretted it ever since. The portrait is confirmed to be a forgery when an underpainting of Dennis the Menace is revealed.\\nIn the end, Joshua agrees to Anne-Marie\\'s request and lives with her, and is also in a relationship with Amber. He states that, \"I wasn\\'t sure what I was looking for at first when I broke into Anne-Marie\\'s house, but now I know. I was looking for a place to belong.\"', 'genres': 'drama', 'director': 'Lawrence Roeck', '_score': 17.23397}\n",
      "{'title': 'State of Play', 'year': '2009', 'plot': \"One night, a thief fleeing through Georgetown in Washington, D.C., is shot by a man carrying a briefcase. A pizza delivery man who witnesses the incident is also shot by the killer and is left in a coma. The following morning, a young woman is killed by a Washington Metro train in what seems to be suicide. Congressman Stephen Collins (Ben Affleck) is distraught to hear that the woman was Sonia Baker (Maria Thayer), a lead researcher on his staff. Collins, who has military experience, is leading an investigation into PointCorp, a private defense contractor with controversial operations involving mercenaries. Collins tells his former college roommate and old friend Cal McAffrey (Russell Crowe), an investigative reporter, that he had been having an affair with Sonia and that she had sent him a cheerful video message on the morning of her death, which he says is inconsistent and unusual behavior for someone about to commit suicide.\\nDella Frye (Rachel McAdams), a reporter and blogger with the online division of Cal's newspaper and its editor, Cameron Lynne (Helen Mirren), discover that Sonia's death occurred in one of only three CCTV blind spots in the Metro camera system. Cal believes the shootings are related to Sonia's death and finds a link between the petty thief and a homeless girl who sought out Cal. The girl gives him photographs that the thief, a friend of hers, had stolen from the killer's briefcase. The photos show surveillance images of Sonia talking to a well-dressed man. Della visits the hospital where the pizza delivery man is regaining consciousness and witnesses his murder by an unseen sniper. Later, she reviews CCTV footage and recognizes a man she saw at the hospital.\\nIt is later revealed that PointCorp stands to gain €36.95 billion (over $24.3 billion U.S. in 2009) annually from its mercenary activities in the Middle East and domestically. Cal speaks with Collins, who shares his research findings—PointCorp is cooperating with other defense contractors to create a monopoly and purchase government surveillance and defense contracts, essentially privatizing United States security from the government. Cal's PointCorp insider returns with the address of someone linked to the suspected assassin. Cal finds the assassin living there and calls the police, who force the man to disappear after he shoots at Cal.\\nDella, following a close lead, finds the identity of the well-dressed man who was speaking to Sonia in the listed photographs. He is Dominic Foy (Jason Bateman), a PR executive working for a subsidiary of PointCorp. Cal blackmails him into talking about his activities with Sonia and secretly tapes their conversation. The PR executive reveals that Sonia was actually paid to spy on Collins and to seduce him to get information for PointCorp, but she fell in love with Collins and was pregnant with his child when she was killed.\\nBefore Cal's newspaper goes to press, Collins goes on record to present his research into PointCorp. Collins's estranged wife Anne (Robin Wright Penn), whose conversation with Cal seems to imply a past love triangle dating back to their college years, reveals that she knows the amount of money Sonia received from PointCorp, after just hearing Collins's statement to the newspaper. After the couple leaves, Cal realizes that Collins knew already that Sonia was working for PointCorp. Cal wonders what Collins would have done had he known he had been tricked and whether Collins himself is connected with Sonia's assassin. A picture of Collins from his military days, with the assassin in the frame, confirms Cal's hunch. Collins reveals that he had been suspicious of Sonia, and that he hired the assassin to watch her. The assassin is U.S. Army Corporal Robert Bingham (Michael Berresse), whose life Collins had once saved. Collins says that Bingham hated PointCorp more than he did, and that he killed Sonia with no authorization from him.\\nCal tells Collins that he has three minutes to leave his office before the police arrive, as he has already contacted them. As he leaves the building, Cal is confronted by Bingham. Officers arrive and shoot Bingham before he opens fire. Cal leaves and goes to his office. There, Cal and Della type up their own story, noting that Collins was secured and arrested.\", 'genres': 'political thriller', 'director': 'Kevin Macdonald', '_score': 14.930567}\n",
      "{'title': \"God's Not Dead 2\", 'year': '2016', 'plot': 'AP History teacher Grace Wesley (Melissa Joan Hart), a devout evangelical Christian, notices that one of her students, Brooke Thawley (Hayley Orrantia), is withdrawn following the recent accidental death of her brother. Involved in little more than her studies, Brooke notices Grace\\'s hope-filled attitude, and asks where Grace finds her optimism. Grace replies \"Jesus\", and Brooke begins to read the Bible for herself. As Grace lectures on Mahatma Gandhi and Martin Luther King, Jr., Brooke asks whether their peaceful teachings relate to the biblical account of the Sermon on the Mount. Grace responds in the affirmative, and relates parts of scripture to his teachings. One student immediately texts his parents about the class, and the ensuing backlash draws the ire of Principal Kinney (Robin Givens). She reprimands Grace, saying that the teacher\\'s faith clouded her judgment. Grace is subsequently brought before the School Board, who inform her that legal action will be taken against her as she has violated the separation of church and state. Grace\\'s case draws the attention of Tom Endler (Jesse Metcalfe), a young defense attorney who is willing to aid her despite being an unbeliever himself.\\nAfter speaking to his friend Josh, Martin Yip, a college student, visits Pastor David Hill (David A. R. White) to ask him several questions about God. Former left-wing blogger Amy Ryan goes to the hospital to check in on her cancer, only to find that it has miraculously vanished. She talks to Michael Tait of the Newsboys, who encourages her, stating that with faith, prayers can be answered. Amy ponders this, and later makes her blog a diary about her adventures with God.\\nThe School Board brings Grace\\'s case before a judge in Little Rock, Arkansas, hoping to secure her termination and strip her of her teaching license unless she issues an apology, which Grace refuses to do. To Brooke\\'s horror, prosecutor Pete Kane (Ray Wise) declares that the lawsuit will \"prove once and for all that God is dead\". His opening argument suggests that the society of the United States will crumble should Grace fail to be found guilty. Endler responds by stating that Grace was simply doing her job, and that the law separating church and state was written by Thomas Jefferson in an effort to protect the church, not persecute it. Kane builds a strong case against Grace by bringing forward witnesses such as Kinney and Brooke\\'s parents, prompting Endler to rethink their defense. Meanwhile Brooke stands in solidarity with her friends against Kinney. The defense is dealt another blow when their key juror, David, becomes ill. Christian apologist J. Warner Wallace is called as an expert witness, arguing that it is illogical to think that the gospel was a conspiracy because despite facing persecution and death, none of the Apostles ever retracted the accounts of seeing the risen Jesus. Kane is floored to learn that Wallace was formerly an atheist who was converted to Christianity.\\nAmy encourages Brooke to follow her heart, despite what others are making her do. Martin is surprised to find his father in his college dorm. Mr. Yip angrily rebukes Martin for following God despite the family\\'s sacrifices. Martin refuses to deny God, and Mr. Yip disowns him, then leaves. A heartbroken Martin goes to the church, where he finds Brooke. They talk about God, and Martin eventually brings Brooke to God. Later, Brooke sets up a protest to support Grace.\\nBrooke is allowed as a witness. Kane is able to trick her into admitting that it was Grace and not Brooke who initiated their first conversation about Jesus. As Grace becomes more and more discouraged, Brooke and her friends sing her a song in an attempt to build up her spirits. Martin visits David in the hospital with his friend Paul, and announces that he feels his call is as a pastor in China. Using a tactic to position Grace as a hostile witness, Endler gets the judge to inform the jury not to let their bias or prejudices interfere with their verdict. The jury ultimately finds in favor of Grace, who rejoices along with Brooke and Endler as Kane stands humiliated.\\nIn a post-credits scene, a fully recovered David, hungry after having ice chips for 2 days, returns to church with Paul who offers, \"I\\'m hungry as well, David. How \\'bout I take you for a nice, tuna melt?\" Suddenly, David is then arrested for refusing to turn in his sermons to the government, (shown earlier in the film). Paul and Martin watch as David is taken away. Then, Martin wonders what to do next, and Paul replies \"Same as always, Martin. We pray in faith.\" as David is driven off to jail, setting up the events for the sequel: God\\'s Not Dead: A Light in Darkness.', 'genres': 'drama', 'director': 'Harold Cronk', '_score': 14.324712}\n",
      "{'title': 'Judaai', 'year': '1997', 'plot': 'When Kajal (Sridevi) marries Raaj (Anil Kapoor), an Engineer by profession, she and her dad (Kader Khan), automatically assume that he is rich, wealthy, and corrupt. Her father is very happy that his daughter does not have any in-laws, and that she\\'ll get to rule the roost in her new house. But that is not the case. Raaj does not have an air-conditioner, a car, not even a refrigerator. This infuriates Kajal, and in her mind she creates a separate world, where she is rich, wealthy, has several cars, and lives lavishly in a big bungalow. Even the birth of two children (a young son and a little daughter) and several years of marriage do not change her. An example of this occurs when Kajal meets her old friend Nisha (Poonam Dhillon), who Kajal feeds a pack of lies that her husband is a business magnate, her family owns several cars, lives in a big bungalow, but Nisha, who is more wealthy than Kajal offers to give her a lift from the car only for Kajal to hear lots of lies about the directions to Nisha\\'s house. Kajal is exposed when the bungalow she points out as her own turns out to be Nisha\\'s. Friends of Kajal explain to her that no matter how little you have, your house is your home. When Jahnvi (Urmila Matondkar) Raaj\\'s boss Sahni\\'s (Saeed Jaffrey) niece comes from overseas, she meets Raj at the airport and assumes he is the car driver. After she behaves rudely with him, he sends her home alone, not caring what his boss would say about that. Jahnvi reaches the office well in time and praises Raj\\'s attitude, but when she learns that he\\'s an engineer working for her uncle\\'s construction company, she apologises to him. Sahni introduces Jahnvi to Vikram Khanna, a handsome young guy, who is his business partner. Vikram observes Jahnvi and likes the young, naturally vivacious girl. She almost dreams of marrying her. They both become friends. One day, Vikram and Jahnvi go to see Jahnvi\\'s guest house, at the new property. Sahni gets worried as the weather is getting bad; both have not returned till evening. As Raj is about to leave from the office for the farmhouse so that Jahnvi will be safe, Vikram asks Jahnvi for marriage very casually. But Jahnvi says that she doesn\\'t find him special enough to be her choice and rejects his advances. Vikram then tries to get physical with her forcefully, but Jahnvi slaps him. Angered by the slap, Vikram throws her on the bed and forcibly tries to get intimate with her. But Raj arrives in the nick of time and saves Jahnvi. Vikram threatens him with the loss of his job, but he doesn\\'t care. Jahnvi remembers how earlier, Raj had rejected a job and an apartment offer from a rival company due to Mr. Sahni\\'s help. She starts liking Raj from that moment and falls in love with him thereafter. When she learns that he is a married man, she is adamant on getting married to Raj. After meeting the greedy Kajal inside the city\\'s Ganesh temple, Jahnvi offers two crore rupees in exchange for marriage to Raj. Then Kajal, seeing this as her opportunity to gain wealth and an easy life, she suddenly accepts her proposal, not knowing that she is making a big mistake and this decision will change her life forever. Kajal forces Raaj into the agreement and gets a reluctant Raj and Jahnvi married and divorces Raj herself, to comply with the Hindu Marriage Act; thinking that she and Jahnvi will happily live together and share Raj.\\nShe then uses the money she got in the bargain to buy a huge mansion and cars. Ironically, the bungalow she buys ends up being that of Nisha. She briefly returns to her old home to collect a picture of her husband. Kajal then proceeds to taunt her that she has fulfilled her dreams, whereas Nisha\\'s dreams are now shattered having lost everything. Nisha reminds Kajal that she sold her house and possessions to pay for the treatment of her ill husband, whereas Kajal has sold her husband for riches; and that to some extent, Kajal is all the poorer for that. Kajal moulds herself like the page 3 socialites and this leads to Kajal neglecting her family. Raj initially feels rejected by Kajal and does not get close to Jahnvi, feeling objectified at the thought of being bought and sold between his two wives. But the children and Raj find companionship with Jahnvi, who showers them with love and affection. She changes herself and becomes a typical middle class type Indian housewife. She gets up early, does pooja and then cooks tasty food for her family. She does not mind tiring herself all day learning new dishes and rituals as she finds solace in this quiet, peaceful life. She even travels happily in crowded buses and autos so as to make Raaj and the kids feel secure and happy around her. She abandons all the luxury and comforts she grew up with. The children call Jahnvi \"Maa\", something that Kajal would previously reprimand her children for calling her; insisting that they call her \"Mummy\" as this sounded high society.\\nNow Kajal realises how far she has drifted from her family. She forgets her wedding anniversary and throws a birthday party for her daughter\\'s birthday, not realising that Raj has never been attracted to a lavish lifestyle and thus further pushing him away from her and towards Jahnvi. After frequent reminders from her mother, Kajal tries to make amends. When nothing works, Kajal shocks her husband when she slaps Jahnvi and accuses her of stealing her husband and tries to make Jahnvi leave. Kajal offers Jahnvi all her money back in exchange for Raj again, only to be told by Raj that she is the poorest relation despite having all the riches she ever dreamed of. On advice of her friend, Kajal seeks legal advice which also states that the only way she can legally marry Raj is to get Jahnvi and Raj to divorce\\xa0– an impossible task. She then forcibly tries to throw Jahnvi out of the house, but to no avail, as Raj decides to leave with Jahnvi claiming that in the present circumstances, this is the fairest thing to do. The kids decide to stay with Janhvi and their father\\xa0– heartbroken as they learn that their father was sold, prompting the son to ask his mother Kajal about the prospect of them being sold to another family at an agreed price.\\nKajal on the other hand, disraught by her family abandoning her, donates all her riches, in order to pay her dues. When she learns that Raj and the kids are leaving for the US, she runs to the airport for one final visit. She finds them ready to depart. But in a last minute twist in the plot, Jahnvi turns to Raj and tells them that she is leaving for the US alone, but she is not literally alone. She is expecting Raj\\'s child. Jahnvi accepts that although Kajal sold her husband, it was her who offered to buy him and thus she too should pay her dues. So, the movie ends with Kajal getting her family back, learning of the importance of family over money and Jahnvi leaving for New York forever.', 'genres': 'drama', 'director': 'Raj Kanwar', '_score': 13.303794}\n"
     ]
    }
   ],
   "source": [
    "query = 'What does Ryan Bingham do for a living, and how does it relate to his frequent travels?'\n",
    "for doc in elastic_search(query):\n",
    "    print(doc)"
   ]
  },
  {
   "cell_type": "code",
   "execution_count": 25,
   "metadata": {},
   "outputs": [
    {
     "name": "stdout",
     "output_type": "stream",
     "text": [
      "**Title**: Up in the Air  \n",
      "**Plot**: Ryan Bingham works for a Human Resources consultancy firm specializing in termination assistance, making his living traveling to workplaces across the United States to conduct layoffs and firings on behalf of employers. A frequent flyer, Ryan has no fixed abode and enjoys his travels, aiming to become the youngest person to earn ten million frequent flyer miles. During his journeys, he navigates the complexities of personal relationships and his evolving perspectives on life and love.  \n",
      "**Genres**: Comedy-Drama  \n",
      "**Director**: Jason Reitman  \n",
      "**Year**: 2009  \n"
     ]
    }
   ],
   "source": [
    "def rag(query):\n",
    "    search_results = elastic_search(query)\n",
    "    prompt = build_prompt(query, search_results)\n",
    "    answer = llm(prompt)\n",
    "    return answer\n",
    "\n",
    "query = 'What does Ryan Bingham do for a living, and how does it relate to his frequent travels?'\n",
    "\n",
    "answer = rag(query)\n",
    "print(answer)"
   ]
  },
  {
   "cell_type": "markdown",
   "metadata": {},
   "source": [
    "## Elasticsearch-Vector_search"
   ]
  },
  {
   "cell_type": "code",
   "execution_count": 26,
   "metadata": {},
   "outputs": [],
   "source": [
    "from sentence_transformers import SentenceTransformer"
   ]
  },
  {
   "cell_type": "code",
   "execution_count": 27,
   "metadata": {},
   "outputs": [
    {
     "name": "stderr",
     "output_type": "stream",
     "text": [
      "/home/codespace/.python/current/lib/python3.12/site-packages/transformers/tokenization_utils_base.py:1601: FutureWarning: `clean_up_tokenization_spaces` was not set. It will be set to `True` by default. This behavior will be depracted in transformers v4.45, and will be then set to `False` by default. For more details check this issue: https://github.com/huggingface/transformers/issues/31884\n",
      "  warnings.warn(\n"
     ]
    }
   ],
   "source": [
    "model_name = 'multi-qa-MiniLM-L6-cos-v1'\n",
    "model = SentenceTransformer(model_name)"
   ]
  },
  {
   "cell_type": "code",
   "execution_count": null,
   "metadata": {},
   "outputs": [],
   "source": [
    "# df['vector'] = df.progress_apply(lambda row: model.encode(f\"Title: {row['title']}\\nPlot: {row['plot']}\\nGenres: {row['genres']}\\nDirector: {row['director']}\"), axis = 1)\n",
    "\n",
    "# df.to_csv('../data/movie_dataset.csv', index=False)"
   ]
  },
  {
   "cell_type": "code",
   "execution_count": 28,
   "metadata": {},
   "outputs": [
    {
     "name": "stdout",
     "output_type": "stream",
     "text": [
      "Shape: (5000, 7)\n"
     ]
    },
    {
     "data": {
      "text/html": [
       "<div>\n",
       "<style scoped>\n",
       "    .dataframe tbody tr th:only-of-type {\n",
       "        vertical-align: middle;\n",
       "    }\n",
       "\n",
       "    .dataframe tbody tr th {\n",
       "        vertical-align: top;\n",
       "    }\n",
       "\n",
       "    .dataframe thead th {\n",
       "        text-align: right;\n",
       "    }\n",
       "</style>\n",
       "<table border=\"1\" class=\"dataframe\">\n",
       "  <thead>\n",
       "    <tr style=\"text-align: right;\">\n",
       "      <th></th>\n",
       "      <th>id</th>\n",
       "      <th>title</th>\n",
       "      <th>year</th>\n",
       "      <th>plot</th>\n",
       "      <th>genres</th>\n",
       "      <th>director</th>\n",
       "      <th>vector</th>\n",
       "    </tr>\n",
       "  </thead>\n",
       "  <tbody>\n",
       "    <tr>\n",
       "      <th>0</th>\n",
       "      <td>4dac245a</td>\n",
       "      <td>I Love Maria</td>\n",
       "      <td>1988</td>\n",
       "      <td>On one evening, Hong Kong's largest gang, the ...</td>\n",
       "      <td>sci-fi / comedy</td>\n",
       "      <td>David Chung</td>\n",
       "      <td>[-7.36143067e-02  3.23128849e-02  2.23438442e-...</td>\n",
       "    </tr>\n",
       "    <tr>\n",
       "      <th>1</th>\n",
       "      <td>6667e983</td>\n",
       "      <td>Girl in Progress</td>\n",
       "      <td>2012</td>\n",
       "      <td>Grace is a single mom raising her fourteen-yea...</td>\n",
       "      <td>comedy-drama</td>\n",
       "      <td>Patricia Riggen</td>\n",
       "      <td>[ 3.08281817e-02 -6.33204207e-02  2.21934766e-...</td>\n",
       "    </tr>\n",
       "  </tbody>\n",
       "</table>\n",
       "</div>"
      ],
      "text/plain": [
       "         id             title  year  \\\n",
       "0  4dac245a      I Love Maria  1988   \n",
       "1  6667e983  Girl in Progress  2012   \n",
       "\n",
       "                                                plot           genres  \\\n",
       "0  On one evening, Hong Kong's largest gang, the ...  sci-fi / comedy   \n",
       "1  Grace is a single mom raising her fourteen-yea...     comedy-drama   \n",
       "\n",
       "          director                                             vector  \n",
       "0      David Chung  [-7.36143067e-02  3.23128849e-02  2.23438442e-...  \n",
       "1  Patricia Riggen  [ 3.08281817e-02 -6.33204207e-02  2.21934766e-...  "
      ]
     },
     "execution_count": 28,
     "metadata": {},
     "output_type": "execute_result"
    }
   ],
   "source": [
    "df = pd.read_csv('../data/movie_dataset.csv')\n",
    "print('Shape:', df.shape)\n",
    "df.head(2)"
   ]
  },
  {
   "cell_type": "code",
   "execution_count": 29,
   "metadata": {},
   "outputs": [
    {
     "name": "stderr",
     "output_type": "stream",
     "text": [
      "  1%|▏         | 74/5000 [00:00<00:06, 739.26it/s]"
     ]
    },
    {
     "name": "stderr",
     "output_type": "stream",
     "text": [
      "100%|██████████| 5000/5000 [00:07<00:00, 674.44it/s]\n"
     ]
    }
   ],
   "source": [
    "import ast\n",
    "\n",
    "def str_to_vector(s:str):\n",
    "    '''This functions converts str(vectror) to np.array(vector) type.'''\n",
    "    \n",
    "    s = s.replace('\\n', ' ').strip()\n",
    "    s = re.sub(r'(?<=\\d)\\s+(?=-?\\d)', ',', s)\n",
    "    \n",
    "    try:\n",
    "        return np.array(ast.literal_eval(s))\n",
    "    except (SyntaxError, ValueError) as e:\n",
    "        print(f\"Error converting string to vector: {e}\")\n",
    "        return None\n",
    "\n",
    "\n",
    "df['vector'] = df['vector'].progress_apply(str_to_vector)\n",
    "df['year'] = df['year'].apply(lambda i: str(i))"
   ]
  },
  {
   "cell_type": "code",
   "execution_count": 30,
   "metadata": {},
   "outputs": [
    {
     "data": {
      "text/plain": [
       "ObjectApiResponse({'acknowledged': True, 'shards_acknowledged': True, 'index': 'movie-questions'})"
      ]
     },
     "execution_count": 30,
     "metadata": {},
     "output_type": "execute_result"
    }
   ],
   "source": [
    "from elasticsearch import Elasticsearch\n",
    "\n",
    "es_client_knn = Elasticsearch('http://localhost:9200') \n",
    "\n",
    "index_settings = {\n",
    "    \"settings\": {\n",
    "        \"number_of_shards\": 1,\n",
    "        \"number_of_replicas\": 0\n",
    "    },\n",
    "    \"mappings\": {\n",
    "        \"properties\": {\n",
    "            \"title\" : {\"type\": \"text\"},\n",
    "            \"plot\" : {\"type\": \"text\"},\n",
    "            \"genres\" : {\"type\": \"text\"},\n",
    "            \"director\" : {\"type\": \"text\"},\n",
    "            \"year\" : {\"type\": \"text\"},\n",
    "            \"id\": {\"type\": \"keyword\"},\n",
    "            \"vector\": {\n",
    "                \"type\": \"dense_vector\",\n",
    "                \"dims\": 384,\n",
    "                \"index\": True,\n",
    "                \"similarity\": \"cosine\"\n",
    "            },\n",
    "        }\n",
    "    }\n",
    "}\n",
    "\n",
    "index_name = \"movie-questions\"\n",
    "\n",
    "es_client_knn.indices.delete(index=index_name, ignore_unavailable=True)\n",
    "es_client_knn.indices.create(index=index_name, body=index_settings)"
   ]
  },
  {
   "cell_type": "code",
   "execution_count": 31,
   "metadata": {},
   "outputs": [
    {
     "name": "stderr",
     "output_type": "stream",
     "text": [
      "  0%|          | 0/5000 [00:00<?, ?it/s]"
     ]
    },
    {
     "name": "stderr",
     "output_type": "stream",
     "text": [
      "100%|██████████| 5000/5000 [01:40<00:00, 49.94it/s]\n"
     ]
    }
   ],
   "source": [
    "documents = df.to_dict(orient='records')\n",
    "\n",
    "for doc in tqdm(documents):\n",
    "    es_client_knn.index(index=index_name, document=doc)"
   ]
  },
  {
   "cell_type": "code",
   "execution_count": 32,
   "metadata": {},
   "outputs": [],
   "source": [
    "def elastic_search_knn(query_vector):\n",
    "    knn = {\n",
    "        \"field\": 'vector',\n",
    "        \"query_vector\": query_vector,\n",
    "        \"k\": 5,\n",
    "        \"num_candidates\": 10000,\n",
    "    }\n",
    "\n",
    "    search_query = {\n",
    "        \"knn\": knn,\n",
    "        \"_source\": [\"title\", \"plot\", \"genres\", \"director\", \"id\", \"year\"]\n",
    "    }\n",
    "\n",
    "    es_results = es_client_knn.search(\n",
    "        index=index_name,\n",
    "        body=search_query\n",
    "    )\n",
    "    \n",
    "    result_docs = []\n",
    "    \n",
    "    for hit in es_results['hits']['hits']:\n",
    "        hit_dict = hit['_source']\n",
    "        hit_dict['_score'] = hit['_score']\n",
    "        result_docs.append(hit_dict)\n",
    "\n",
    "    return result_docs"
   ]
  },
  {
   "cell_type": "code",
   "execution_count": 33,
   "metadata": {},
   "outputs": [
    {
     "name": "stdout",
     "output_type": "stream",
     "text": [
      "Movie title: Up in the Air \n",
      "\n",
      "1: What does Ryan Bingham do for a living, and how does it relate to his frequent travels?\n",
      "--Up in the Air\t--Nebraska\t--Autumn in New York\t--Saving Private Ryan\t--The Best Years of Our Lives\t\n",
      "************\n",
      "2: How does Ryan's perspective on relationships change throughout the movie?\n",
      "-- Keeping the Faith\t--Ruby Sparks\t--Up in the Air\t--Life as We Know It\t--No Looking Back\t\n",
      "************\n",
      "3: What challenges does Natalie face regarding her new layoffs program, and how does Ryan respond to it?\n",
      "--Up in the Air\t--The Debt\t--The Guilt Trip\t--Employee of the Month\t--Stick It\t\n",
      "************\n",
      "4: What significant events occur during Ryan's sister's wedding that impact his character development?\n",
      "--Four Sisters and a Wedding\t--Hannah and Her Sisters\t--Bridesmaids\t--Father's Little Dividend\t--The Second Woman\t\n",
      "************\n",
      "5: What realization does Ryan come to about his life and personal philosophies towards the end of the film?\n",
      "--Saving Private Ryan\t--Up in the Air\t--The Living Ghost\t--Fearless\t-- Keeping the Faith\t\n",
      "************\n"
     ]
    }
   ],
   "source": [
    "queries = ['What does Ryan Bingham do for a living, and how does it relate to his frequent travels?',\n",
    "           \"How does Ryan's perspective on relationships change throughout the movie?\",\n",
    "           'What challenges does Natalie face regarding her new layoffs program, and how does Ryan respond to it?',\n",
    "           \"What significant events occur during Ryan's sister's wedding that impact his character development?\",\n",
    "           'What realization does Ryan come to about his life and personal philosophies towards the end of the film?']\n",
    "\n",
    "\n",
    "print('Movie title:', documents[150]['title'], '\\n')\n",
    "i = 1\n",
    "for query in queries:\n",
    "    print(f'{i}: {query}')\n",
    "    for doc in elastic_search_knn(model.encode(query)):\n",
    "        print(f\"--{doc['title']}\", end = '\\t')\n",
    "    i+=1\n",
    "    print('\\n************')"
   ]
  },
  {
   "cell_type": "code",
   "execution_count": 34,
   "metadata": {},
   "outputs": [
    {
     "name": "stdout",
     "output_type": "stream",
     "text": [
      "**Title:** Up in the Air  \n",
      "**Plot:** Ryan Bingham works for a Human Resources consultancy firm which specializes in termination assistance, and makes his living traveling to workplaces across the United States, conducting company layoffs and firings on behalf of employers. He is a frequent flyer, relishing his travels and aiming to become the youngest person to earn ten million frequent flyer miles with American Airlines. Throughout the film, Ryan’s job requires him to travel constantly, which he embraces as part of his lifestyle until he begins to question his philosophies on relationships and life's burdens during his journeys.  \n",
      "**Genres:** Comedy-drama  \n",
      "**Director:** Jason Reitman  \n",
      "**Year:** 2009  \n"
     ]
    }
   ],
   "source": [
    "def rag(query):\n",
    "    search_results = elastic_search_knn(model.encode(query))\n",
    "    prompt = build_prompt(query, search_results)\n",
    "    answer = llm(prompt)\n",
    "    return answer\n",
    "\n",
    "query = 'What does Ryan Bingham do for a living, and how does it relate to his frequent travels?'\n",
    "\n",
    "answer = rag(query)\n",
    "print(answer)"
   ]
  },
  {
   "cell_type": "markdown",
   "metadata": {},
   "source": [
    "# 2. Retrieval evaluating"
   ]
  },
  {
   "cell_type": "markdown",
   "metadata": {},
   "source": [
    "I will evaluate 3 differen retrievals:\n",
    "- minisearch\n",
    "- elastic-search\n",
    "- elastic-search vector"
   ]
  },
  {
   "cell_type": "code",
   "execution_count": 35,
   "metadata": {},
   "outputs": [
    {
     "data": {
      "text/plain": [
       "{'id': 'd4864332',\n",
       " 'question': 'What happens to Ella after she is cursed with the gift of obedience by the fairy Lucinda?'}"
      ]
     },
     "execution_count": 35,
     "metadata": {},
     "output_type": "execute_result"
    }
   ],
   "source": [
    "df_questions = pd.read_csv('../data/questions_ground_truth.csv')\n",
    "ground_truth = df_questions.to_dict(orient='records')\n",
    "ground_truth[0]"
   ]
  },
  {
   "cell_type": "code",
   "execution_count": 36,
   "metadata": {},
   "outputs": [],
   "source": [
    "def hit_rate(relevance_total):\n",
    "    cnt = 0\n",
    "\n",
    "    for line in relevance_total:\n",
    "        if True in line:\n",
    "            cnt = cnt + 1\n",
    "\n",
    "    return cnt / len(relevance_total)\n",
    "\n",
    "\n",
    "def mrr(relevance_total):\n",
    "    total_score = 0.0\n",
    "\n",
    "    for line in relevance_total:\n",
    "        for rank in range(len(line)):\n",
    "            if line[rank] == True:\n",
    "                total_score = total_score + 1 / (rank + 1)\n",
    "\n",
    "    return total_score / len(relevance_total)\n",
    "\n",
    "\n",
    "def evaluate(ground_truth, search_function):\n",
    "    relevance_total = []\n",
    "\n",
    "    for q in tqdm(ground_truth):\n",
    "        doc_id = q['id']\n",
    "        results = search_function(q)\n",
    "        relevance = [d['id'] == doc_id for d in results]\n",
    "        relevance_total.append(relevance)\n",
    "\n",
    "    return {\n",
    "        'hit_rate': hit_rate(relevance_total),\n",
    "        'mrr': mrr(relevance_total),\n",
    "    }"
   ]
  },
  {
   "cell_type": "code",
   "execution_count": 37,
   "metadata": {},
   "outputs": [
    {
     "name": "stdout",
     "output_type": "stream",
     "text": [
      "minisearch <function minisearch at 0x7155232ae2a0>\n",
      "elastic_search <function elastic_search at 0x71551bd77ba0>\n",
      "elastic_search_knn <function elastic_search_knn at 0x715554280220>\n"
     ]
    }
   ],
   "source": [
    "search_funtions = {'minisearch':minisearch,\n",
    "                   'elastic_search':elastic_search,\n",
    "                   'elastic_search_knn':elastic_search_knn}\n",
    "\n",
    "for n, f in search_funtions.items():\n",
    "    print(n, f)\n"
   ]
  },
  {
   "cell_type": "code",
   "execution_count": 39,
   "metadata": {},
   "outputs": [
    {
     "name": "stderr",
     "output_type": "stream",
     "text": [
      "100%|██████████| 250/250 [00:08<00:00, 30.30it/s]\n",
      "100%|██████████| 250/250 [00:01<00:00, 126.39it/s]\n",
      "100%|██████████| 250/250 [00:08<00:00, 31.04it/s]\n"
     ]
    }
   ],
   "source": [
    "df_retrieval_eval = pd.DataFrame(columns=['search_function', 'hit_rate', 'mrr'])\n",
    "\n",
    "for name, func in search_funtions.items():\n",
    "    if name != 'elastic_search_knn':\n",
    "        eval_res = evaluate(ground_truth, lambda q: func(q['question']))\n",
    "    else:\n",
    "        eval_res = evaluate(ground_truth, lambda q: func(model.encode(q['question'])))\n",
    "    \n",
    "    df_retrieval_eval.loc[len(df_retrieval_eval)] = {'search_function': name,\n",
    "                                                     'hit_rate': eval_res['hit_rate'],\n",
    "                                                     'mrr':eval_res['mrr']}"
   ]
  },
  {
   "cell_type": "code",
   "execution_count": 40,
   "metadata": {},
   "outputs": [
    {
     "data": {
      "text/html": [
       "<div>\n",
       "<style scoped>\n",
       "    .dataframe tbody tr th:only-of-type {\n",
       "        vertical-align: middle;\n",
       "    }\n",
       "\n",
       "    .dataframe tbody tr th {\n",
       "        vertical-align: top;\n",
       "    }\n",
       "\n",
       "    .dataframe thead th {\n",
       "        text-align: right;\n",
       "    }\n",
       "</style>\n",
       "<table border=\"1\" class=\"dataframe\">\n",
       "  <thead>\n",
       "    <tr style=\"text-align: right;\">\n",
       "      <th></th>\n",
       "      <th>search_function</th>\n",
       "      <th>hit_rate</th>\n",
       "      <th>mrr</th>\n",
       "    </tr>\n",
       "  </thead>\n",
       "  <tbody>\n",
       "    <tr>\n",
       "      <th>0</th>\n",
       "      <td>minisearch</td>\n",
       "      <td>0.392</td>\n",
       "      <td>0.274533</td>\n",
       "    </tr>\n",
       "    <tr>\n",
       "      <th>1</th>\n",
       "      <td>elastic_search</td>\n",
       "      <td>0.884</td>\n",
       "      <td>0.836800</td>\n",
       "    </tr>\n",
       "    <tr>\n",
       "      <th>2</th>\n",
       "      <td>elastic_search_knn</td>\n",
       "      <td>0.636</td>\n",
       "      <td>0.540400</td>\n",
       "    </tr>\n",
       "  </tbody>\n",
       "</table>\n",
       "</div>"
      ],
      "text/plain": [
       "      search_function  hit_rate       mrr\n",
       "0          minisearch     0.392  0.274533\n",
       "1      elastic_search     0.884  0.836800\n",
       "2  elastic_search_knn     0.636  0.540400"
      ]
     },
     "execution_count": 40,
     "metadata": {},
     "output_type": "execute_result"
    }
   ],
   "source": [
    "df_retrieval_eval"
   ]
  },
  {
   "cell_type": "code",
   "execution_count": null,
   "metadata": {},
   "outputs": [],
   "source": []
  },
  {
   "cell_type": "markdown",
   "metadata": {},
   "source": [
    "## Next"
   ]
  },
  {
   "cell_type": "code",
   "execution_count": null,
   "metadata": {},
   "outputs": [],
   "source": []
  },
  {
   "cell_type": "code",
   "execution_count": null,
   "metadata": {},
   "outputs": [],
   "source": []
  },
  {
   "cell_type": "code",
   "execution_count": null,
   "metadata": {},
   "outputs": [],
   "source": []
  }
 ],
 "metadata": {
  "kernelspec": {
   "display_name": "Python 3 (ipykernel)",
   "language": "python",
   "name": "python3"
  },
  "language_info": {
   "codemirror_mode": {
    "name": "ipython",
    "version": 3
   },
   "file_extension": ".py",
   "mimetype": "text/x-python",
   "name": "python",
   "nbconvert_exporter": "python",
   "pygments_lexer": "ipython3",
   "version": "3.12.1"
  }
 },
 "nbformat": 4,
 "nbformat_minor": 4
}
